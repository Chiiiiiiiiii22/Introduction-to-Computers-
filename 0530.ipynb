{
  "nbformat": 4,
  "nbformat_minor": 0,
  "metadata": {
    "colab": {
      "name": "0530.ipynb",
      "provenance": [],
      "authorship_tag": "ABX9TyOjMwY2RNwyitnxnXSHqVCf",
      "include_colab_link": true
    },
    "kernelspec": {
      "name": "python3",
      "display_name": "Python 3"
    },
    "language_info": {
      "name": "python"
    }
  },
  "cells": [
    {
      "cell_type": "markdown",
      "metadata": {
        "id": "view-in-github",
        "colab_type": "text"
      },
      "source": [
        "<a href=\"https://colab.research.google.com/github/Chiiiiiiiiii22/Introduction-to-Computers-/blob/main/0530.ipynb\" target=\"_parent\"><img src=\"https://colab.research.google.com/assets/colab-badge.svg\" alt=\"Open In Colab\"/></a>"
      ]
    },
    {
      "cell_type": "code",
      "execution_count": null,
      "metadata": {
        "colab": {
          "base_uri": "https://localhost:8080/"
        },
        "id": "67AUGd6jUBR1",
        "outputId": "8e13057a-7a5e-46ca-c01d-392d6ecfe03e"
      },
      "outputs": [
        {
          "output_type": "stream",
          "name": "stdout",
          "text": [
            "0530\n"
          ]
        }
      ],
      "source": [
        "print('0530')"
      ]
    },
    {
      "cell_type": "code",
      "source": [
        "for i in range(2,10):\n",
        "  for j in range(1,10):\n",
        "     product = i*j\n",
        "     print('%d*%d=%2d '%(i,j,product), end=' ')\n",
        "  print()"
      ],
      "metadata": {
        "colab": {
          "base_uri": "https://localhost:8080/"
        },
        "id": "6G921fSHUS89",
        "outputId": "6bc92565-6753-41c8-b9e8-b158f2894382"
      },
      "execution_count": null,
      "outputs": [
        {
          "output_type": "stream",
          "name": "stdout",
          "text": [
            "2*1= 2  2*2= 4  2*3= 6  2*4= 8  2*5=10  2*6=12  2*7=14  2*8=16  2*9=18  \n",
            "3*1= 3  3*2= 6  3*3= 9  3*4=12  3*5=15  3*6=18  3*7=21  3*8=24  3*9=27  \n",
            "4*1= 4  4*2= 8  4*3=12  4*4=16  4*5=20  4*6=24  4*7=28  4*8=32  4*9=36  \n",
            "5*1= 5  5*2=10  5*3=15  5*4=20  5*5=25  5*6=30  5*7=35  5*8=40  5*9=45  \n",
            "6*1= 6  6*2=12  6*3=18  6*4=24  6*5=30  6*6=36  6*7=42  6*8=48  6*9=54  \n",
            "7*1= 7  7*2=14  7*3=21  7*4=28  7*5=35  7*6=42  7*7=49  7*8=56  7*9=63  \n",
            "8*1= 8  8*2=16  8*3=24  8*4=32  8*5=40  8*6=48  8*7=56  8*8=64  8*9=72  \n",
            "9*1= 9  9*2=18  9*3=27  9*4=36  9*5=45  9*6=54  9*7=63  9*8=72  9*9=81  \n"
          ]
        }
      ]
    },
    {
      "cell_type": "code",
      "source": [
        "a = int(input('請輸入a的值'))\n",
        "b = int(input('請輸入b的值'))\n",
        "\n",
        "maxno = a*b\n",
        "for i in range(1,maxno+1):\n",
        "  if (i % a == 0 and i % b == 0):\n",
        "    break\n",
        "print('%d和%d的最小公倍數 = %d'%(a,b,i))"
      ],
      "metadata": {
        "colab": {
          "base_uri": "https://localhost:8080/"
        },
        "id": "qsMPoAgsVfyI",
        "outputId": "a4b77b90-187a-467b-ee4b-b007961d89a2"
      },
      "execution_count": null,
      "outputs": [
        {
          "output_type": "stream",
          "name": "stdout",
          "text": [
            "請輸入a的值4\n",
            "請輸入b的值5\n",
            "4和5的最小公倍數 = 20\n"
          ]
        }
      ]
    },
    {
      "cell_type": "code",
      "source": [
        "n = int(input('請輸入正整數:'))\n",
        "for i in range(1,n+1):\n",
        "  if i % 5 == 0:\n",
        "    continue\n",
        "  print(i, end=' ')"
      ],
      "metadata": {
        "colab": {
          "base_uri": "https://localhost:8080/"
        },
        "id": "ylP3T6AbWjyA",
        "outputId": "86cde349-65af-48a4-ecef-f63f68f99358"
      },
      "execution_count": null,
      "outputs": [
        {
          "output_type": "stream",
          "name": "stdout",
          "text": [
            "請輸入正整數:21\n",
            "1 2 3 4 6 7 8 9 11 12 13 14 16 17 18 19 21 "
          ]
        }
      ]
    },
    {
      "cell_type": "code",
      "source": [
        "total = n = 0\n",
        "while(n<= 10):\n",
        "  total +=n\n",
        "  n +=1\n",
        "print(total)"
      ],
      "metadata": {
        "colab": {
          "base_uri": "https://localhost:8080/"
        },
        "id": "bfw67IQhW8Om",
        "outputId": "fe731d5c-e4f3-44eb-e180-938ebc3ea41c"
      },
      "execution_count": null,
      "outputs": [
        {
          "output_type": "stream",
          "name": "stdout",
          "text": [
            "55\n"
          ]
        }
      ]
    },
    {
      "cell_type": "code",
      "source": [
        "total = n = 0\n",
        "while n<= 10:\n",
        "  total += n\n",
        "  n+=1\n",
        "print(total)"
      ],
      "metadata": {
        "colab": {
          "base_uri": "https://localhost:8080/"
        },
        "id": "kSpWtTGCXVkI",
        "outputId": "596a029b-3139-4272-d727-8b08c7c58a2c"
      },
      "execution_count": null,
      "outputs": [
        {
          "output_type": "stream",
          "name": "stdout",
          "text": [
            "55\n"
          ]
        }
      ]
    },
    {
      "cell_type": "code",
      "source": [
        "total = n = 0\n",
        "while n<= 10:\n",
        "  total += n\n",
        "  n+=1\n",
        "  \n",
        "print(total)"
      ],
      "metadata": {
        "colab": {
          "base_uri": "https://localhost:8080/"
        },
        "id": "rKaHeU0KYENd",
        "outputId": "328a1588-8f85-4452-e897-cd6a4039f68c"
      },
      "execution_count": null,
      "outputs": [
        {
          "output_type": "stream",
          "name": "stdout",
          "text": [
            "55\n"
          ]
        }
      ]
    },
    {
      "cell_type": "code",
      "source": [
        "total = i = 1\n",
        "n = int(input('請輸入正整數n的值:'))\n",
        "while i<=n:\n",
        "  total *=i\n",
        "  i+=1\n",
        "print('%d!=%d' % (n,total))"
      ],
      "metadata": {
        "colab": {
          "base_uri": "https://localhost:8080/"
        },
        "id": "z1_hY6m_YJSJ",
        "outputId": "8c8ca25f-29c4-40b3-fcc5-6d4570d54ef2"
      },
      "execution_count": null,
      "outputs": [
        {
          "output_type": "stream",
          "name": "stdout",
          "text": [
            "請輸入正整數n的值:5\n",
            "5!=120\n"
          ]
        }
      ]
    },
    {
      "cell_type": "code",
      "source": [
        "total = i = 1\n",
        "n = int(input('請輸入正整數n的值:'))\n",
        "while i<=n:\n",
        "  total *=i\n",
        "  i+=1\n",
        "print('%d!=%d' % (n,total))"
      ],
      "metadata": {
        "colab": {
          "base_uri": "https://localhost:8080/"
        },
        "id": "NAgDQ3yeaB9T",
        "outputId": "ca9efe93-ff1c-4173-aab1-4ffd38823d04"
      },
      "execution_count": null,
      "outputs": [
        {
          "output_type": "stream",
          "name": "stdout",
          "text": [
            "請輸入正整數n的值:6\n",
            "6!=720\n"
          ]
        }
      ]
    },
    {
      "cell_type": "code",
      "source": [
        "odd = even = k = 0\n",
        "while k <= 50:\n",
        "  if k%2 == 0:\n",
        "    even +=k\n",
        "  else:\n",
        "    odd +=k\n",
        "  k +=1\n",
        "print('0-50的偶數和結果是',even)\n",
        "print('0-50的奇數和結果是',odd)"
      ],
      "metadata": {
        "id": "-10H0Py_ahjl",
        "colab": {
          "base_uri": "https://localhost:8080/"
        },
        "outputId": "44c252ab-7f18-4706-e81a-21a2e75a7eb2"
      },
      "execution_count": 2,
      "outputs": [
        {
          "output_type": "stream",
          "name": "stdout",
          "text": [
            "0-50的偶數和結果是 650\n",
            "0-50的奇數和結果是 625\n"
          ]
        }
      ]
    },
    {
      "cell_type": "code",
      "source": [
        "num = int(input('請輸入正整數:'))\n",
        "asterisk = ''\n",
        "while num >0:\n",
        "  n = num\n",
        "  asterisk = ''\n",
        "  for n in range(1,n+1):\n",
        "    asterisk +='*'\n",
        "  print(asterisk)\n",
        "  num -=1"
      ],
      "metadata": {
        "colab": {
          "base_uri": "https://localhost:8080/"
        },
        "id": "MYm34zRFnYt6",
        "outputId": "e51192c9-560b-412a-f50d-493eeb8be6a1"
      },
      "execution_count": 3,
      "outputs": [
        {
          "output_type": "stream",
          "name": "stdout",
          "text": [
            "請輸入正整數:7\n",
            "*******\n",
            "******\n",
            "*****\n",
            "****\n",
            "***\n",
            "**\n",
            "*\n"
          ]
        }
      ]
    },
    {
      "cell_type": "code",
      "source": [
        "total = m =0\n",
        "while m <=100:\n",
        "  if m%3 == 0 or m%7 == 0:\n",
        "    total +=m\n",
        "  m +=1\n",
        "print('數值1-100中，所有是3或7的倍數的數之總和=',total)"
      ],
      "metadata": {
        "colab": {
          "base_uri": "https://localhost:8080/"
        },
        "id": "1SqCUaSVok1V",
        "outputId": "0893f283-0a7e-48d1-d254-e26d8c262b9c"
      },
      "execution_count": 6,
      "outputs": [
        {
          "output_type": "stream",
          "name": "stdout",
          "text": [
            "數值1-100中，所有是3或7的倍數的數之總和= 2208\n"
          ]
        }
      ]
    },
    {
      "cell_type": "code",
      "source": [
        "number = int(input('請輸入正整數:'))\n",
        "ans = ''\n",
        "ans2 = '是質數'\n",
        "\n",
        "n = 1\n",
        "while n <= number:\n",
        "  if number%n == 0 :\n",
        "    ans += str(n) + ' '\n",
        "    if n > 1 and n < number :\n",
        "      ans2 = '不是質數'\n",
        "\n",
        "  n +=1\n",
        "\n",
        "print(str(number),'的因數有 ',ans)\n",
        "print(str(number),ans2)"
      ],
      "metadata": {
        "colab": {
          "base_uri": "https://localhost:8080/"
        },
        "id": "fP1ZQmY3pcjQ",
        "outputId": "ce6b7778-12a3-4c79-ba09-7004f2006359"
      },
      "execution_count": 10,
      "outputs": [
        {
          "output_type": "stream",
          "name": "stdout",
          "text": [
            "請輸入正整數:12\n",
            "12 的因數有  1 2 3 4 6 12 \n",
            "12 不是質數\n"
          ]
        }
      ]
    }
  ]
}
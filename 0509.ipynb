{
  "nbformat": 4,
  "nbformat_minor": 0,
  "metadata": {
    "colab": {
      "name": "0509.ipynb",
      "provenance": [],
      "authorship_tag": "ABX9TyPF7W37piZSS63WrADFi7yk",
      "include_colab_link": true
    },
    "kernelspec": {
      "name": "python3",
      "display_name": "Python 3"
    },
    "language_info": {
      "name": "python"
    }
  },
  "cells": [
    {
      "cell_type": "markdown",
      "metadata": {
        "id": "view-in-github",
        "colab_type": "text"
      },
      "source": [
        "<a href=\"https://colab.research.google.com/github/Chiiiiiiiiii22/Introduction-to-Computers-/blob/main/0509.ipynb\" target=\"_parent\"><img src=\"https://colab.research.google.com/assets/colab-badge.svg\" alt=\"Open In Colab\"/></a>"
      ]
    },
    {
      "cell_type": "code",
      "execution_count": 15,
      "metadata": {
        "colab": {
          "base_uri": "https://localhost:8080/"
        },
        "id": "QaMfk2T07y_8",
        "outputId": "c210f634-3c3d-42a6-8000-3dfe2649c4db"
      },
      "outputs": [
        {
          "output_type": "stream",
          "name": "stdout",
          "text": [
            "請輸入你的體溫36\n",
            "體溫正常!\n"
          ]
        }
      ],
      "source": [
        "temp= float(input('請輸入你的體溫'))\n",
        "if temp>= 37.5:\n",
        "  print('體溫過高!')\n",
        "elif temp>=37 and temp<37.4:\n",
        "  print('體溫略高!')\n",
        "elif temp>=34 and temp<36.9:\n",
        "  print('體溫正常!')\n",
        "else:\n",
        "  print('體溫異常，請重新量測!')"
      ]
    },
    {
      "cell_type": "code",
      "source": [
        "score= float(input('請輸入成績'))\n",
        "if score>= 90:\n",
        "  print('A')\n",
        "elif score>=80 and score<=89:\n",
        "  print('B')\n",
        "elif score>=70 and score<=79:\n",
        "  print('C')\n",
        "elif score>=60 and score<=69:\n",
        "  print('D')\n",
        "else:\n",
        "  print('E')"
      ],
      "metadata": {
        "colab": {
          "base_uri": "https://localhost:8080/"
        },
        "id": "TtgIWqqg_sEC",
        "outputId": "18fb902f-2897-4112-e99c-7b299d49cc6a"
      },
      "execution_count": 16,
      "outputs": [
        {
          "output_type": "stream",
          "name": "stdout",
          "text": [
            "請輸入成績67\n",
            "D\n"
          ]
        }
      ]
    },
    {
      "cell_type": "code",
      "source": [
        "money=int(input('請輸入購物金額'))\n",
        "if (money>=10000):\n",
        "  if(money>=100000):\n",
        "    print('八折',money*0.8,end = '元\\n')\n",
        "  elif(money>=50000):\n",
        "    print('八五折',money*0.85,end = '元\\n')\n",
        "  elif(money>=30000):\n",
        "    print('九折',money*0.9,end = '元\\n')\n",
        "  else:\n",
        "    print('九五折',money*0.95,end = '元\\n')\n",
        "else:\n",
        "  print('沒打折',money,end = '元\\n')"
      ],
      "metadata": {
        "colab": {
          "base_uri": "https://localhost:8080/"
        },
        "id": "nuUZBSeBEXol",
        "outputId": "47fddaa4-b461-424a-aca0-9f528e26dd38"
      },
      "execution_count": 21,
      "outputs": [
        {
          "output_type": "stream",
          "name": "stdout",
          "text": [
            "請輸入購物金額76895837\n",
            "八折 61516669.6元\n"
          ]
        }
      ]
    },
    {
      "cell_type": "code",
      "source": [
        "season=int(input('請輸入月份'))\n",
        "if season>12:\n",
        "  print('月份不再範圍內!')\n",
        "elif season>=3 and season<=5:\n",
        "  print(season,'月是春天')\n",
        "elif season>=6 and season<=8:\n",
        "  print(season,'月是夏天')\n",
        "elif season>=9 and season<=11:\n",
        "  print(season,'月是秋天')\n",
        "elif season>=1 and season<=2:\n",
        "  print(season,'月是冬天')\n",
        "else:\n",
        "  print(season,'月是冬天')\n"
      ],
      "metadata": {
        "colab": {
          "base_uri": "https://localhost:8080/"
        },
        "id": "Nd2vsvFqI3xV",
        "outputId": "6bcd8c83-8d61-4d84-d119-4e69e83c2d95"
      },
      "execution_count": 39,
      "outputs": [
        {
          "output_type": "stream",
          "name": "stdout",
          "text": [
            "請輸入月份15\n",
            "月份不再範圍內!\n"
          ]
        }
      ]
    },
    {
      "cell_type": "code",
      "source": [
        "revenue=int(input('請輸入收入金額'))\n",
        "if revenue>300000:\n",
        "  if revenue>=2000000:\n",
        "    print('付稅金額:',revenue*0.3,end = '元\\n')\n",
        "  elif revenue>=1000000:\n",
        "    print('付稅金額:',revenue*0.21,end = '元\\n')\n",
        "  elif revenue>=600000:\n",
        "    print('付稅金額:',revenue*0.13,end = '元\\n')\n",
        "  else:\n",
        "    print('付稅金額:',revenue*0.06,end = '元\\n')\n",
        "else:\n",
        "  print('付稅金額:0元')"
      ],
      "metadata": {
        "colab": {
          "base_uri": "https://localhost:8080/"
        },
        "id": "YPb7slMFNjJv",
        "outputId": "a5633733-9746-428d-964d-df4417a45a57"
      },
      "execution_count": 43,
      "outputs": [
        {
          "output_type": "stream",
          "name": "stdout",
          "text": [
            "請輸入收入金額1000000\n",
            "付稅金額: 210000.0元\n"
          ]
        }
      ]
    }
  ]
}